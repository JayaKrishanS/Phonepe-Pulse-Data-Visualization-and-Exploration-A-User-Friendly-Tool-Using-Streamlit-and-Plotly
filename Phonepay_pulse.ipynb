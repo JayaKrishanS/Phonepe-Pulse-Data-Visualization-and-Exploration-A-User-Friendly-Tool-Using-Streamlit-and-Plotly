{
  "nbformat": 4,
  "nbformat_minor": 0,
  "metadata": {
    "colab": {
      "provenance": [],
      "authorship_tag": "ABX9TyPCu3CqR9ymrOYxWxLK9qi4",
      "include_colab_link": true
    },
    "kernelspec": {
      "name": "python3",
      "display_name": "Python 3"
    },
    "language_info": {
      "name": "python"
    }
  },
  "cells": [
    {
      "cell_type": "markdown",
      "metadata": {
        "id": "view-in-github",
        "colab_type": "text"
      },
      "source": [
        "<a href=\"https://colab.research.google.com/github/JayaKrishanS/Phonepe-Pulse-Data-Visualization-and-Exploration-A-User-Friendly-Tool-Using-Streamlit-and-Plotly/blob/main/Phonepay_pulse.ipynb\" target=\"_parent\"><img src=\"https://colab.research.google.com/assets/colab-badge.svg\" alt=\"Open In Colab\"/></a>"
      ]
    },
    {
      "cell_type": "markdown",
      "source": [
        "**Cloning the data from PhonepayPulse github**"
      ],
      "metadata": {
        "id": "7Cbt55QAxZw3"
      }
    },
    {
      "cell_type": "code",
      "source": [
        "!git clone https://github.com/PhonePe/pulse"
      ],
      "metadata": {
        "id": "KhvkvOW9kG77"
      },
      "execution_count": null,
      "outputs": []
    },
    {
      "cell_type": "code",
      "source": [
        "#importing required packages for the program\n",
        "import pandas as pd\n",
        "import json\n",
        "import os"
      ],
      "metadata": {
        "id": "__C3L1zPg9tJ"
      },
      "execution_count": null,
      "outputs": []
    },
    {
      "cell_type": "markdown",
      "source": [
        "**Getting the Aggregated transaction details and saving as CSV file**"
      ],
      "metadata": {
        "id": "FNI6mNEFxqiU"
      }
    },
    {
      "cell_type": "code",
      "source": [
        "# getting aggregated transaction details\n",
        "\n",
        "path = \"/content/pulse/data/aggregated/transaction/country/india/state/\"\n",
        "Agg_trans_state_list = os.listdir(path)\n",
        "AT = {'State':[],'Year':[],'Quater':[],'Transaction_type':[],'Transaction_count':[],'Transaction_amount':[]}\n",
        "\n",
        "for i in Agg_trans_state_list:\n",
        "  path_i = path + i + \"/\"\n",
        "  Agg_year = os.listdir(path_i)\n",
        "  for j in Agg_year:\n",
        "    path_j = path_i + j + \"/\"\n",
        "    Agg_year_list = os.listdir(path_j)\n",
        "    for k in Agg_year_list:\n",
        "      path_k =path_j + k\n",
        "      json_file = open(path_k,\"r\")\n",
        "      Data = json.load(json_file)\n",
        "      try:\n",
        "        for l in Data['data']['transactionData']:\n",
        "          Name = l['name']\n",
        "          Count = l['paymentInstruments'][0]['count']\n",
        "          Amount = l['paymentInstruments'][0]['amount']\n",
        "          AT['State'].append(i)\n",
        "          AT['Year'].append(j)\n",
        "          AT['Quater'].append(int(k.strip('.json')))\n",
        "          AT['Transaction_type'].append(Name)\n",
        "          AT['Transaction_count'].append(Count)\n",
        "          AT['Transaction_amount'].append(Amount)\n",
        "      except:\n",
        "        pass\n",
        "\n",
        "\n",
        "Agg_trans_dataframe = pd.DataFrame(AT)\n",
        "Agg_trans_dataframe.to_csv('Agg_trans_dataframe.csv',index = False)"
      ],
      "metadata": {
        "id": "i3ZuFKtOkvYL"
      },
      "execution_count": null,
      "outputs": []
    },
    {
      "cell_type": "markdown",
      "source": [
        "**Getting the Aggregated user details and saving as CSV file**"
      ],
      "metadata": {
        "id": "ty7VLPR0x7NA"
      }
    },
    {
      "cell_type": "code",
      "source": [
        "#getting agrregated user details\n",
        "path = \"/content/pulse/data/aggregated/user/country/india/state/\"\n",
        "agg_user_state_list = os.listdir(path)\n",
        "AU = {'State':[],'Year':[],'Quarter':[],'Device_Brands':[],'Counts':[],'Percentage':[]}\n",
        "\n",
        "for i in agg_user_state_list:\n",
        "  path_i = path + i + \"/\"\n",
        "  map_year = os.listdir(path_i)\n",
        "  for j in map_year:\n",
        "    path_j = path_i + j +\"/\"\n",
        "    map_year_list = os.listdir(path_j)\n",
        "    for k in map_year_list:\n",
        "      path_k =path_j + k\n",
        "      json_file = open(path_k,\"r\")\n",
        "      Data = json.load(json_file)\n",
        "      try:\n",
        "        for l in Data['data']['usersByDevice']:\n",
        "            Brand=l['brand']\n",
        "            Counts=l['count']\n",
        "            Percentage=l['percentage']\n",
        "            AU['State'].append(i)\n",
        "            AU['Year'].append(j)\n",
        "            AU['Quarter'].append(int(k.strip('.json')))\n",
        "            AU['Device_Brands'].append(Brand)\n",
        "            AU['Counts'].append(Counts)\n",
        "            AU['Percentage'].append(Percentage)\n",
        "      except:\n",
        "        pass  \n",
        "\n",
        "Agg_user_dataframe = pd.DataFrame(AU)\n",
        "Agg_user_dataframe.to_csv('Agg_user_dataframe.csv',index = False)"
      ],
      "metadata": {
        "id": "npI-wfWLmMF4"
      },
      "execution_count": null,
      "outputs": []
    },
    {
      "cell_type": "markdown",
      "source": [
        "**Getting the Map transaction details and saving as CSV file**"
      ],
      "metadata": {
        "id": "BS8RAtk_x_hZ"
      }
    },
    {
      "cell_type": "code",
      "source": [
        "#getting map transaction details\n",
        "path = \"/content/pulse/data/map/transaction/hover/country/india/state/\"\n",
        "map_trans_state_list = os.listdir(path)\n",
        "MT = {'State':[],'Year':[],'Quarter':[],'District':[],'Counts':[],'Amount':[]}\n",
        "\n",
        "for i in map_trans_state_list:\n",
        "  path_i = path + i + \"/\"\n",
        "  map_year = os.listdir(path_i)\n",
        "  for j in map_year:\n",
        "    path_j = path_i + j +\"/\"\n",
        "    map_year_list = os.listdir(path_j)\n",
        "    for k in map_year_list:\n",
        "      path_k =path_j + k\n",
        "      json_file = open(path_k,\"r\")\n",
        "      Data = json.load(json_file)\n",
        "      try:\n",
        "        for l in Data['data']['hoverDataList']:\n",
        "          Name=l['name']\n",
        "          Counts=l['metric'][0]['count'] \n",
        "          Amount=l['metric'][0]['amount']\n",
        "          MT['State'].append(i)\n",
        "          MT['Year'].append(j)\n",
        "          MT['Quarter'].append(int(k.strip('.json')))\n",
        "          MT['District'].append(Name)\n",
        "          MT['Counts'].append(Counts)\n",
        "          MT['Amount'].append(Amount)\n",
        "      except:\n",
        "        pass\n",
        "Map_trans_dataframe = pd.DataFrame(MT)\n",
        "Map_trans_dataframe.to_csv('Map_trans_dataframe.csv',index = False)\n"
      ],
      "metadata": {
        "id": "T1P-_pEuso_d"
      },
      "execution_count": null,
      "outputs": []
    },
    {
      "cell_type": "markdown",
      "source": [
        "**Getting the Map user details and saving as CSV file**"
      ],
      "metadata": {
        "id": "Y9sxEscyyD-E"
      }
    },
    {
      "cell_type": "code",
      "source": [
        "#Getting map user details\n",
        "path = \"/content/pulse/data/map/user/hover/country/india/state/\"\n",
        "map_user_state_list = os.listdir(path)\n",
        "MU = {'State':[],'Year':[],'Quarter':[],'District':[],'RegisteredUsers':[]}\n",
        "\n",
        "for i in map_user_state_list:\n",
        "  path_i = path + i + \"/\"\n",
        "  map_year = os.listdir(path_i)\n",
        "  for j in map_year:\n",
        "    path_j = path_i + j + \"/\"\n",
        "    map_year_list = os.listdir(path_j)\n",
        "    for k in map_year_list:\n",
        "      path_k = path_j + k\n",
        "      json_file = open(path_k,\"r\")\n",
        "      Data = json.load(json_file)\n",
        "      try:\n",
        "        for l in Data['data']['hoverData'].items():\n",
        "          Name = l[0]\n",
        "          Counts = l[1]['registeredUsers']\n",
        "          MU['State'].append(i)\n",
        "          MU['Year'].append(j)\n",
        "          MU['Quarter'].append(int(k.strip('.json')))\n",
        "          MU['District'].append(Name)\n",
        "          MU['RegisteredUsers'].append(Count)\n",
        "      except:\n",
        "        pass\n",
        "Map_user_dataframe = pd.DataFrame(MU)\n",
        "Map_user_dataframe.to_csv('Map_user_dataframe.csv',index = False)"
      ],
      "metadata": {
        "id": "8AU43A6SlCdl"
      },
      "execution_count": null,
      "outputs": []
    },
    {
      "cell_type": "markdown",
      "source": [
        "**Getting the Top transaction details and saving as CSV file**"
      ],
      "metadata": {
        "id": "SlzTMmXOyJYO"
      }
    },
    {
      "cell_type": "code",
      "source": [
        "#Getting top transaction details\n",
        "path = \"/content/pulse/data/top/transaction/country/india/state/\"\n",
        "top_trans_state_list = os.listdir(path)\n",
        "TT = {'State':[],'Year':[],'Quarter':[],'Pincode':[],'Count':[],'Amount':[]}\n",
        "\n",
        "for i in top_trans_state_list:\n",
        "  path_i = path + i +\"/\"\n",
        "  top_year = os.listdir(path_i)\n",
        "  for j in top_year:\n",
        "    path_j = path_i + j + \"/\"\n",
        "    top_year_list = os.listdir(path_j)\n",
        "    for k in top_year_list:\n",
        "      path_k = path_j + k\n",
        "      json_file = open(path_k,\"r\")\n",
        "      Data = json.load(json_file)\n",
        "      try:\n",
        "        for l in Data['data']['pincodes']:\n",
        "          Name = l['entityName'] \n",
        "          Counts = l['metric']['count']\n",
        "          Amount = l['metric']['amount']\n",
        "          TT['State'].append(i)\n",
        "          TT['Year'].append(j)\n",
        "          TT['Quarter'].append(int(k.strip('.json')))\n",
        "          TT['Pincode'].append(Name)\n",
        "          TT['Count'].append(Counts)\n",
        "          TT['Amount'].append(Counts)\n",
        "      except:\n",
        "        pass\n",
        "Top_trans_dataframe = pd.DataFrame(TT)\n",
        "Top_trans_dataframe.to_csv('Top_trans_dataframe.csv',index = False)"
      ],
      "metadata": {
        "id": "iBE92NQVrSbz"
      },
      "execution_count": 28,
      "outputs": []
    },
    {
      "cell_type": "markdown",
      "source": [
        "**Getting the Top user details and saving as CSV file**"
      ],
      "metadata": {
        "id": "6czIUL8UyMvj"
      }
    },
    {
      "cell_type": "code",
      "source": [
        "#getting top user details\n",
        "path = \"/content/pulse/data/top/user/country/india/state/\"\n",
        "top_user_state_list = os.listdir(path)\n",
        "TU = {'State':[],'Year':[],'Quarter':[],'Pincode':[],'Registered_user':[]}\n",
        "\n",
        "for i in top_user_state_list:\n",
        "  path_i = path + i +\"/\"\n",
        "  top_year = os.listdir(path_i)\n",
        "  for j in top_year:\n",
        "    path_j = path_i + j + \"/\"\n",
        "    top_year_list = os.listdir(path_j)\n",
        "    for k in top_year_list:\n",
        "      path_k = path_j + k\n",
        "      json_file = open(path_k,\"r\")\n",
        "      Data = json.load(json_file)\n",
        "      try:\n",
        "        for l in Data['data']['pincodes']:\n",
        "          pincode = l['name'] \n",
        "          Counts = l['registeredUsers']\n",
        "          TU['State'].append(i)\n",
        "          TU['Year'].append(j)\n",
        "          TU['Quarter'].append(int(k.strip('.json')))\n",
        "          TU['Pincode'].append(pincode)\n",
        "          TU['Registered_user'].append(Counts)\n",
        "      except:\n",
        "        pass\n",
        "Top_user_dataframe = pd.DataFrame(TU)\n",
        "Top_user_dataframe.to_csv('Top_user_dataframe.csv',index = False)"
      ],
      "metadata": {
        "id": "RiQ7cVt1vRFo"
      },
      "execution_count": null,
      "outputs": []
    },
    {
      "cell_type": "markdown",
      "source": [
        "**Creating the tables in PostgreSQL by running the querries**"
      ],
      "metadata": {
        "id": "2HfK_zYM0XW7"
      }
    },
    {
      "cell_type": "code",
      "source": [
        "#Querries run in SQL\n",
        "\"\"\"\n",
        " CREATE TABLE Aggregated_transaction(\n",
        "        Serial_no INT,\n",
        "        State VARCHAR(255) NOT NULL,\n",
        "        Year INT,\n",
        "        Quarter INT,\n",
        "        Transaction_type VARCHAR(255),\n",
        "        Transaction_count INT,\n",
        "        Transaction_amount FLOAT\n",
        "    );\n",
        "\t\n",
        " CREATE TABLE Aggregated_user(\n",
        "        State VARCHAR(255),\n",
        "        Year INT,\n",
        "        Quarter INT,\n",
        "        Device_Brands VARCHAR(255),\n",
        "        Counts INT,\n",
        "        Percentage FLOAT \n",
        "    );\n",
        "\t\n",
        "CREATE TABLE Map_transactions(\n",
        "    State VARCHAR(255),\n",
        "    Year INT,\n",
        "    Quarter INT,\n",
        "    District VARCHAR(255),\n",
        "    Counts INT,\n",
        "    Amount FLOAT\n",
        ");\n",
        "\n",
        "CREATE TABLE Map_users (\n",
        "\tState VARCHAR(255),\n",
        "    Year INT,\n",
        "    Quarter INT,\n",
        "    District VARCHAR(255),\n",
        "    RegisteredUsers INT\n",
        ");\n",
        "\n",
        "CREATE TABLE Top_transactions(\n",
        "\tState VARCHAR(255),\n",
        "    Year INT,\n",
        "    Quarter INT,\n",
        "    Pincode VARCHAR(255) NULL,\n",
        "    Count INT,\n",
        "    Amount FLOAT\n",
        ");\n",
        "\n",
        "CREATE TABLE Top_users (\n",
        "\t  State VARCHAR(255),\n",
        "    Year INT,\n",
        "    Quarter INT,\n",
        "    Pincode INT,\n",
        "    Registered_user INT\n",
        ");\n",
        "\"\"\""
      ],
      "metadata": {
        "id": "5ajnB4AA0WvY"
      },
      "execution_count": null,
      "outputs": []
    }
  ]
}